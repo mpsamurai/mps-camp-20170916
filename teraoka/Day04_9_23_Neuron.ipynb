{
 "cells": [
  {
   "cell_type": "code",
   "execution_count": 1,
   "metadata": {
    "collapsed": false,
    "deletable": true,
    "editable": true
   },
   "outputs": [
    {
     "name": "stderr",
     "output_type": "stream",
     "text": [
      "100%|██████████| 100000/100000 [00:04<00:00, 22212.81it/s]\n"
     ]
    },
    {
     "data": {
      "image/png": "[encoded data removed]",
      "text/plain": [
       "<matplotlib.figure.Figure at 0x111d5da20>"
      ]
     },
     "metadata": {},
     "output_type": "display_data"
    }
   ],
   "source": [
    "# 前回のもの(Neuron)\n",
    "\n",
    "% matplotlib inline\n",
    "\n",
    "from matplotlib import pyplot as plt\n",
    "from tqdm import tqdm\n",
    "import numpy as np\n",
    "\n",
    "class Neuron():\n",
    "    def __init__(self, input_num):\n",
    "        self._rate = 0.01\n",
    "        self._weight = np.array(np.round(np.random.rand(input_num)))\n",
    "        self._bias = 1.0\n",
    "        self._y = None\n",
    "\n",
    "    def learn(self, x):\n",
    "        t = self._get_correct(x)\n",
    "        s = self._weight.dot(x) + self._bias  \n",
    "        self._y = 1 / (1 + np.exp(-s))  # ※出力値(予測値)　※を交換可能にするmethod(シグモイド関数)\n",
    "        diff_y = self._y - t  # 誤差関数の微分 ∂E/∂y0 \n",
    "        \n",
    "        diff_state = self._y * (1 - self._y)  # ※交換可能にする method切り出すシグモイド関数の微分　∂y0/∂s0 \n",
    "        \n",
    "        diff_common = diff_y * diff_state  # ∂E/∂y0 * ∂y0/∂s0 　\n",
    "        self._weight -= self._rate * diff_common * x  \n",
    "        self._bias -= self._rate * diff_common \n",
    "\n",
    "        return np.abs(self._y - t)\n",
    "\n",
    "    def _get_correct(self, x):\n",
    "        return 0 if (x[x == 0.0].size) else 1\n",
    "\n",
    "if __name__ == '__main__':\n",
    "    input_num = 2\n",
    "    learn_num = 100000\n",
    "    interval = 50\n",
    "\n",
    "    n = Neuron(input_num)\n",
    "    output_x = []\n",
    "    tmp_y = []\n",
    "    output_y_max = []\n",
    "    output_y_avg = []\n",
    "    output_y_min = []\n",
    "    for i in tqdm(range(0, learn_num)):\n",
    "        x = np.array(np.round(np.random.rand(input_num)))\n",
    "        diff = n.learn(x)\n",
    "        tmp_y.append(diff)\n",
    "        if i % interval == 0:\n",
    "            output_y_max.append(max(tmp_y))\n",
    "            output_y_avg.append(sum(tmp_y) / len(tmp_y))\n",
    "            output_y_min.append(min(tmp_y))\n",
    "            tmp_y = []\n",
    "            output_x.append(i+1)\n",
    "\n",
    "    # output\n",
    "    line_max, line_avg, line_min = plt.plot(\n",
    "        output_x, output_y_max, 'r-', \n",
    "        output_x, output_y_avg, 'g-', \n",
    "        output_x, output_y_min, 'b-'\n",
    "    )\n",
    "    plt.legend((line_max, line_avg, line_min), ('$max$', '$avg$', '$min$'))\n",
    "    plt.xlabel('$learn-num$')\n",
    "    plt.ylabel('$diff-learn-value-and-answer$')\n",
    "    plt.show()"
   ]
  },
  {
   "cell_type": "code",
   "execution_count": 158,
   "metadata": {
    "collapsed": false
   },
   "outputs": [
    {
     "ename": "ValueError",
     "evalue": "shapes (2,1) and (2,1) not aligned: 1 (dim 1) != 2 (dim 0)",
     "output_type": "error",
     "traceback": [
      "\u001b[0;31m---------------------------------------------------------------------------\u001b[0m",
      "\u001b[0;31mValueError\u001b[0m                                Traceback (most recent call last)",
      "\u001b[0;32m<ipython-input-158-70a6fcadaa9d>\u001b[0m in \u001b[0;36m<module>\u001b[0;34m()\u001b[0m\n\u001b[1;32m     76\u001b[0m         \u001b[0mdelta\u001b[0m \u001b[0;34m=\u001b[0m \u001b[0mn1\u001b[0m\u001b[0;34m.\u001b[0m\u001b[0mdelta\u001b[0m\u001b[0;34m(\u001b[0m\u001b[0mt\u001b[0m\u001b[0;34m,\u001b[0m \u001b[0mn1\u001b[0m\u001b[0;34m.\u001b[0m\u001b[0m_y\u001b[0m\u001b[0;34m)\u001b[0m\u001b[0;34m\u001b[0m\u001b[0m\n\u001b[1;32m     77\u001b[0m \u001b[0;31m#         back_parameters = n1.back_propagation(delta)\u001b[0m\u001b[0;34m\u001b[0m\u001b[0;34m\u001b[0m\u001b[0m\n\u001b[0;32m---> 78\u001b[0;31m         \u001b[0mprint\u001b[0m\u001b[0;34m(\u001b[0m\u001b[0mn1\u001b[0m\u001b[0;34m.\u001b[0m\u001b[0mback_propagation\u001b[0m\u001b[0;34m(\u001b[0m\u001b[0mdelta\u001b[0m\u001b[0;34m)\u001b[0m\u001b[0;34m)\u001b[0m\u001b[0;34m\u001b[0m\u001b[0m\n\u001b[0m\u001b[1;32m     79\u001b[0m \u001b[0;34m\u001b[0m\u001b[0m\n\u001b[1;32m     80\u001b[0m         \u001b[0;31m#print(\"1層目：\", back_parameters)\u001b[0m\u001b[0;34m\u001b[0m\u001b[0;34m\u001b[0m\u001b[0m\n",
      "\u001b[0;32m<ipython-input-158-70a6fcadaa9d>\u001b[0m in \u001b[0;36mback_propagation\u001b[0;34m(self, delta)\u001b[0m\n\u001b[1;32m     32\u001b[0m     \u001b[0;32mdef\u001b[0m \u001b[0mback_propagation\u001b[0m\u001b[0;34m(\u001b[0m\u001b[0mself\u001b[0m\u001b[0;34m,\u001b[0m \u001b[0mdelta\u001b[0m\u001b[0;34m)\u001b[0m\u001b[0;34m:\u001b[0m\u001b[0;34m\u001b[0m\u001b[0m\n\u001b[1;32m     33\u001b[0m \u001b[0;34m\u001b[0m\u001b[0m\n\u001b[0;32m---> 34\u001b[0;31m         \u001b[0mself\u001b[0m\u001b[0;34m.\u001b[0m\u001b[0m_weight\u001b[0m \u001b[0;34m-=\u001b[0m \u001b[0mself\u001b[0m\u001b[0;34m.\u001b[0m\u001b[0m_rate\u001b[0m \u001b[0;34m*\u001b[0m \u001b[0mnp\u001b[0m\u001b[0;34m.\u001b[0m\u001b[0meye\u001b[0m\u001b[0;34m(\u001b[0m\u001b[0;36m2\u001b[0m\u001b[0;34m,\u001b[0m \u001b[0;36m2\u001b[0m\u001b[0;34m)\u001b[0m\u001b[0;34m.\u001b[0m\u001b[0mdot\u001b[0m\u001b[0;34m(\u001b[0m\u001b[0mself\u001b[0m\u001b[0;34m.\u001b[0m\u001b[0m_delta\u001b[0m\u001b[0;34m)\u001b[0m\u001b[0;34m.\u001b[0m\u001b[0mdot\u001b[0m\u001b[0;34m(\u001b[0m\u001b[0mself\u001b[0m\u001b[0;34m.\u001b[0m\u001b[0m_y\u001b[0m\u001b[0;34m)\u001b[0m\u001b[0;34m.\u001b[0m\u001b[0mdot\u001b[0m\u001b[0;34m(\u001b[0m\u001b[0mnp\u001b[0m\u001b[0;34m.\u001b[0m\u001b[0marray\u001b[0m\u001b[0;34m(\u001b[0m\u001b[0;34m[\u001b[0m\u001b[0;36m1\u001b[0m\u001b[0;34m,\u001b[0m \u001b[0;36m1\u001b[0m\u001b[0;34m]\u001b[0m\u001b[0;34m)\u001b[0m\u001b[0;34m)\u001b[0m\u001b[0;34m\u001b[0m\u001b[0m\n\u001b[0m\u001b[1;32m     35\u001b[0m \u001b[0;34m\u001b[0m\u001b[0m\n\u001b[1;32m     36\u001b[0m \u001b[0;31m#         print(\"self._bias\", self._bias)\u001b[0m\u001b[0;34m\u001b[0m\u001b[0;34m\u001b[0m\u001b[0m\n",
      "\u001b[0;31mValueError\u001b[0m: shapes (2,1) and (2,1) not aligned: 1 (dim 1) != 2 (dim 0)"
     ]
    }
   ],
   "source": [
    "class Layer:\n",
    "    \n",
    "    def __init__(self):\n",
    "        self._rate = 0.01\n",
    "        self._weight = np.array([[1.,1.],\n",
    "                                [1.,1.]])\n",
    "        self._bias = np.array([[1.],\n",
    "                              [1.]])\n",
    "        self._c = np.array([[1.],\n",
    "                            [1.]])\n",
    "        self._y = None\n",
    "        self._delta = None\n",
    "        self._x = None\n",
    "        \n",
    "    def set_state(self, x):\n",
    "        s = (self._weight.dot(x))+1*self._bias\n",
    "        return s\n",
    "\n",
    "    def activate(self, s):\n",
    "        self._y = 1 / (1 + np.exp(-s))\n",
    "        return self._y\n",
    "    \n",
    "    def foward(self, x):\n",
    "        return self.activate(self.set_state(x))\n",
    "    \n",
    "    def delta(self, t, y):\n",
    "        de = self._y - t\n",
    "        dy = self._y * (1 - self._y) \n",
    "        self._delta = de * dy\n",
    "        return self._delta\n",
    "    \n",
    "    def back_propagation(self, delta):\n",
    "\n",
    "        self._weight -= self._rate * np.eye(2, 2).dot(self._delta).dot(self._y).dot(np.array([1, 1]))\n",
    "        \n",
    "#         print(\"self._bias\", self._bias)\n",
    "#         print(\"self._delta\", self._delta)\n",
    "#         print(\"self._c\", self._c)\n",
    "        self._bias -=  self._delta * self._c\n",
    "#         print(\"self._weight, self._bias\",self._weight, self._bias)\n",
    "        return self.foward(self._y)\n",
    "\n",
    "if __name__ == '__main__':\n",
    "    n1 = Layer() # 設定\n",
    "#     t = np.array([[1.],\n",
    "#                   [2.]])\n",
    "#     x1 = np.array([[2.],\n",
    "#                    [3.]])\n",
    "   \n",
    "    \n",
    "#     n1._y = n1.foward(x1)\n",
    "#     delta = n1.delta(t, n1._y)\n",
    "#     back_parameters = n1.back_propagation(delta)\n",
    "#     print(\"1層目：\", back_parameters)\n",
    "    \n",
    "    input_value = np.array([[[0],\n",
    "                             [0]],\n",
    "                            [[0],\n",
    "                             [1]],\n",
    "                            [[1],\n",
    "                             [0]],\n",
    "                            [1,1],\n",
    "                            [1,0],\n",
    "                            [0,0],\n",
    "                            [0,1]])\n",
    "    output_value = np.array([[0,0],\n",
    "                             [1,0],\n",
    "                             [1,0],\n",
    "                             [1,1],\n",
    "                             [1,0],\n",
    "                             [0,0],\n",
    "                             [1,0]])\n",
    "    \n",
    "    for i,o in zip(input_value,output_value):\n",
    "        n1._y = n1.foward(x1)\n",
    "        delta = n1.delta(t, n1._y)\n",
    "#         back_parameters = n1.back_propagation(delta)\n",
    "        print(n1.back_propagation(delta))\n",
    "        \n",
    "        #print(\"1層目：\", back_parameters)\n",
    "    \n",
    "    \n"
   ]
  },
  {
   "cell_type": "code",
   "execution_count": null,
   "metadata": {
    "collapsed": true
   },
   "outputs": [],
   "source": [
    "self._weight -= self._rate * np.eye(2, 2).dot(self._delta).dot(self._y).dot(np.array([1, 1]))"
   ]
  },
  {
   "cell_type": "code",
   "execution_count": 157,
   "metadata": {
    "collapsed": false
   },
   "outputs": [
    {
     "data": {
      "text/plain": [
       "array([1, 1])"
      ]
     },
     "execution_count": 157,
     "metadata": {},
     "output_type": "execute_result"
    }
   ],
   "source": [
    "np.array([1, 1])"
   ]
  },
  {
   "cell_type": "code",
   "execution_count": 104,
   "metadata": {
    "collapsed": true
   },
   "outputs": [],
   "source": [
    "x = np.array([[-0.01798621, -1.01798621]])"
   ]
  },
  {
   "cell_type": "code",
   "execution_count": 137,
   "metadata": {
    "collapsed": false
   },
   "outputs": [
    {
     "data": {
      "text/plain": [
       "array([[-0.00017986, -0.01017986]])"
      ]
     },
     "execution_count": 137,
     "metadata": {},
     "output_type": "execute_result"
    }
   ],
   "source": [
    "0.01*x"
   ]
  },
  {
   "cell_type": "code",
   "execution_count": 7,
   "metadata": {
    "collapsed": false
   },
   "outputs": [
    {
     "name": "stdout",
     "output_type": "stream",
     "text": [
      "1層目： [[ 0.68654066]\n",
      " [ 0.58420796]]\n",
      "2層目： [[ 0.51388293]\n",
      " [ 0.58443086]]\n",
      "2層目： [[ 0.58126855]\n",
      " [ 0.47488235]]\n"
     ]
    }
   ],
   "source": [
    "# 前回のLayer\n",
    "\n",
    "class Layer:\n",
    "    \n",
    "    def __init__(self, m, n):\n",
    "        self.W = np.random.rand(m, n) - 0.5  # m行n列を設定  numpyのbroadcastで全ての行列に合わせて -0.5をしてくれるので 0 ~ 1の数を -0.5 ~ 0.5の範囲になる\n",
    "#         self.b = np.random.rand(m, 1)  # [] m行1列の要素をバイアスに与える\n",
    "        self.b = np.zeros((m, 1))  # m行1列の　0ベクトルを作成してくれている  http://www.kamishima.net/mlmpyja/nbayes1/ndarray.html\n",
    "    def set_state(self, x):\n",
    "        s = (self.W.dot(x))+1*self.b\n",
    "        return s\n",
    "\n",
    "    def activate(self, s):\n",
    "        y = 1 / (1 + np.exp(-s))\n",
    "        return y\n",
    "\n",
    "    def output(self, x):\n",
    "        return self.activate(self.set_state(x))\n",
    "\n",
    "if __name__ == '__main__':\n",
    "    n1 = Layer(2, 2) # 設定\n",
    "    x1 = np.array([[1.],\n",
    "                  [2.]])\n",
    "    print(\"1層目：\", n1.output(x1))\n",
    "    \n",
    "    n2 = Layer(2, 2)\n",
    "    x2 = n1.output(x1)\n",
    "    print(\"2層目：\", n2.output(x2))\n",
    "    \n",
    "    n3 = Layer(2, 2)\n",
    "    x3 = n1.output(x2)\n",
    "    print(\"2層目：\", n3.output(x3))\n",
    "     "
   ]
  },
  {
   "cell_type": "code",
   "execution_count": 96,
   "metadata": {
    "collapsed": false
   },
   "outputs": [],
   "source": [
    "x = np.array([[2],\n",
    "              [1]])\n",
    "y = np.array([[3,4],\n",
    "              [1,1]])"
   ]
  },
  {
   "cell_type": "code",
   "execution_count": 97,
   "metadata": {
    "collapsed": false
   },
   "outputs": [
    {
     "data": {
      "text/plain": [
       "array([[10],\n",
       "       [ 3]])"
      ]
     },
     "execution_count": 97,
     "metadata": {},
     "output_type": "execute_result"
    }
   ],
   "source": [
    "y.dot(x)"
   ]
  },
  {
   "cell_type": "code",
   "execution_count": null,
   "metadata": {
    "collapsed": true
   },
   "outputs": [],
   "source": []
  },
  {
   "cell_type": "code",
   "execution_count": 14,
   "metadata": {
    "collapsed": false
   },
   "outputs": [
    {
     "ename": "AttributeError",
     "evalue": "'Layer' object has no attribute '_bias'",
     "output_type": "error",
     "traceback": [
      "\u001b[0;31m---------------------------------------------------------------------------\u001b[0m",
      "\u001b[0;31mAttributeError\u001b[0m                            Traceback (most recent call last)",
      "\u001b[0;32m<ipython-input-14-7b1063050f9d>\u001b[0m in \u001b[0;36m<module>\u001b[0;34m()\u001b[0m\n\u001b[1;32m     37\u001b[0m     x1 = np.array([[1.],\n\u001b[1;32m     38\u001b[0m                   [2.]])\n\u001b[0;32m---> 39\u001b[0;31m     \u001b[0mprint\u001b[0m\u001b[0;34m(\u001b[0m\u001b[0;34m\"1層目：\"\u001b[0m\u001b[0;34m,\u001b[0m \u001b[0mn1\u001b[0m\u001b[0;34m.\u001b[0m\u001b[0mlearn\u001b[0m\u001b[0;34m(\u001b[0m\u001b[0mx1\u001b[0m\u001b[0;34m)\u001b[0m\u001b[0;34m)\u001b[0m\u001b[0;34m\u001b[0m\u001b[0m\n\u001b[0m\u001b[1;32m     40\u001b[0m \u001b[0;34m\u001b[0m\u001b[0m\n\u001b[1;32m     41\u001b[0m     \u001b[0mn2\u001b[0m \u001b[0;34m=\u001b[0m \u001b[0mLayer\u001b[0m\u001b[0;34m(\u001b[0m\u001b[0;36m2\u001b[0m\u001b[0;34m,\u001b[0m \u001b[0;36m2\u001b[0m\u001b[0;34m)\u001b[0m\u001b[0;34m\u001b[0m\u001b[0m\n",
      "\u001b[0;32m<ipython-input-14-7b1063050f9d>\u001b[0m in \u001b[0;36mlearn\u001b[0;34m(self, x)\u001b[0m\n\u001b[1;32m     21\u001b[0m     \u001b[0;32mdef\u001b[0m \u001b[0mlearn\u001b[0m\u001b[0;34m(\u001b[0m\u001b[0mself\u001b[0m\u001b[0;34m,\u001b[0m \u001b[0mx\u001b[0m\u001b[0;34m)\u001b[0m\u001b[0;34m:\u001b[0m\u001b[0;34m\u001b[0m\u001b[0m\n\u001b[1;32m     22\u001b[0m         \u001b[0mt\u001b[0m \u001b[0;34m=\u001b[0m \u001b[0mself\u001b[0m\u001b[0;34m.\u001b[0m\u001b[0m_get_correct\u001b[0m\u001b[0;34m(\u001b[0m\u001b[0mx\u001b[0m\u001b[0;34m)\u001b[0m\u001b[0;34m\u001b[0m\u001b[0m\n\u001b[0;32m---> 23\u001b[0;31m         \u001b[0ms\u001b[0m \u001b[0;34m=\u001b[0m \u001b[0mself\u001b[0m\u001b[0;34m.\u001b[0m\u001b[0m_weight\u001b[0m\u001b[0;34m.\u001b[0m\u001b[0mdot\u001b[0m\u001b[0;34m(\u001b[0m\u001b[0mx\u001b[0m\u001b[0;34m)\u001b[0m \u001b[0;34m+\u001b[0m \u001b[0mself\u001b[0m\u001b[0;34m.\u001b[0m\u001b[0m_bias\u001b[0m\u001b[0;34m\u001b[0m\u001b[0m\n\u001b[0m\u001b[1;32m     24\u001b[0m         \u001b[0mself\u001b[0m\u001b[0;34m.\u001b[0m\u001b[0m_y\u001b[0m \u001b[0;34m=\u001b[0m \u001b[0;36m1\u001b[0m \u001b[0;34m/\u001b[0m \u001b[0;34m(\u001b[0m\u001b[0;36m1\u001b[0m \u001b[0;34m+\u001b[0m \u001b[0mnp\u001b[0m\u001b[0;34m.\u001b[0m\u001b[0mexp\u001b[0m\u001b[0;34m(\u001b[0m\u001b[0;34m-\u001b[0m\u001b[0ms\u001b[0m\u001b[0;34m)\u001b[0m\u001b[0;34m)\u001b[0m  \u001b[0;31m# ※出力値(予測値)　※を交換可能にするmethod(シグモイド関数)\u001b[0m\u001b[0;34m\u001b[0m\u001b[0m\n\u001b[1;32m     25\u001b[0m         \u001b[0mdiff_y\u001b[0m \u001b[0;34m=\u001b[0m \u001b[0mself\u001b[0m\u001b[0;34m.\u001b[0m\u001b[0m_y\u001b[0m \u001b[0;34m-\u001b[0m \u001b[0mt\u001b[0m  \u001b[0;31m# 誤差関数の微分 ∂E/∂y0\u001b[0m\u001b[0;34m\u001b[0m\u001b[0m\n",
      "\u001b[0;31mAttributeError\u001b[0m: 'Layer' object has no attribute '_bias'"
     ]
    }
   ],
   "source": []
  },
  {
   "cell_type": "code",
   "execution_count": null,
   "metadata": {
    "collapsed": true
   },
   "outputs": [],
   "source": []
  }
 ],
 "metadata": {
  "kernelspec": {
   "display_name": "Python 3",
   "language": "python",
   "name": "python3"
  },
  "language_info": {
   "codemirror_mode": {
    "name": "ipython",
    "version": 3
   },
   "file_extension": ".py",
   "mimetype": "text/x-python",
   "name": "python",
   "nbconvert_exporter": "python",
   "pygments_lexer": "ipython3",
   "version": "3.6.1"
  }
 },
 "nbformat": 4,
 "nbformat_minor": 2
}
