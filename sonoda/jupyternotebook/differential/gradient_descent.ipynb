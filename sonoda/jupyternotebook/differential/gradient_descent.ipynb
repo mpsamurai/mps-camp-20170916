{
 "cells": [
  {
   "cell_type": "code",
   "execution_count": 9,
   "metadata": {},
   "outputs": [],
   "source": [
    "% matplotlib inline\n",
    "from matplotlib import pyplot as plt\n",
    "import numpy as np"
   ]
  },
  {
   "cell_type": "code",
   "execution_count": 40,
   "metadata": {},
   "outputs": [
    {
     "data": {
      "image/png": "[encoded data removed]",
      "text/plain": [
       "<matplotlib.figure.Figure at 0x10e3b1860>"
      ]
     },
     "metadata": {},
     "output_type": "display_data"
    }
   ],
   "source": [
    "# p: 初期位置\n",
    "p = 8.5\n",
    "#  r: 学習率\n",
    "r = 1\n",
    "# e: 許容誤差\n",
    "e = 0.02\n",
    "\n",
    "def f_cost(w):\n",
    "    \"\"\"\n",
    "    コスト関数\n",
    "    w: 入力値\n",
    "    \"\"\"\n",
    "    # y = x * x\n",
    "#     cost = np.power(w, 2)\n",
    "    #  converged sin\n",
    "    cost = np.sin(w) * np.exp(-0.05 * w)\n",
    "    return cost\n",
    "\n",
    "def f_cost_result(w):\n",
    "    \"\"\"\n",
    "    コスト関数の結果（微分）を返す\n",
    "    w: 入力値\n",
    "    \"\"\"\n",
    "     # y = x * x\n",
    "#     ret = 2 * w\n",
    "    #  converged sin\n",
    "    ret = (-0.05 * np.exp(-0.05 * w) * np.sin(w)) + (np.exp(-0.05 * w) * np.cos(w))\n",
    "    return ret\n",
    "\n",
    "def output(f, p, r, e, loop_max = 10000):\n",
    "    \"\"\"\n",
    "    グラフ出力\n",
    "    f: 高階関数\n",
    "    p: 初期位置\n",
    "    r: 学習率\n",
    "    e: 許容誤差\n",
    "    \"\"\"\n",
    "    x = np.linspace(0, 30, 100)\n",
    "    y = f_cost(x)\n",
    "    x_p = np.array([])\n",
    "    y_p = np.array([])\n",
    "    i = 1\n",
    "    while True:\n",
    "        w = np.abs(f(p))\n",
    "        if w < e:\n",
    "            break\n",
    "        else:\n",
    "            p = p - r * f(p)\n",
    "            x_p = np.append(x_p, p)\n",
    "            y_p = np.append(y_p, f_cost(p))\n",
    "        i = i + 1\n",
    "        if i > loop_max:\n",
    "            break\n",
    "    plt.plot(x, y, 'r-', x_p, y_p, 'bo-')\n",
    "    plt.show()\n",
    "\n",
    "output(f_cost_result, p, r, e)"
   ]
  },
  {
   "cell_type": "code",
   "execution_count": null,
   "metadata": {},
   "outputs": [],
   "source": []
  }
 ],
 "metadata": {
  "kernelspec": {
   "display_name": "Python 3",
   "language": "python",
   "name": "python3"
  },
  "language_info": {
   "codemirror_mode": {
    "name": "ipython",
    "version": 3
   },
   "file_extension": ".py",
   "mimetype": "text/x-python",
   "name": "python",
   "nbconvert_exporter": "python",
   "pygments_lexer": "ipython3",
   "version": "3.6.1"
  }
 },
 "nbformat": 4,
 "nbformat_minor": 2
}
