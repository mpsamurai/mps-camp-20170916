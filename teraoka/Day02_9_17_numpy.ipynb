{
 "cells": [
  {
   "cell_type": "code",
   "execution_count": 4,
   "metadata": {},
   "outputs": [
    {
     "data": {
      "text/plain": [
       "array([[1, 2, 3],\n",
       "       [4, 5, 6]])"
      ]
     },
     "execution_count": 4,
     "metadata": {},
     "output_type": "execute_result"
    }
   ],
   "source": [
    "import numpy as np\n",
    "### 行列\n",
    "# 演習問題1\n",
    "A1 = np.array([[1, 4],\n",
    "               [2, 5],\n",
    "               [3, 6]])\n",
    "\n",
    "# 転置のみ\n",
    "A1.T"
   ]
  },
  {
   "cell_type": "code",
   "execution_count": 9,
   "metadata": {},
   "outputs": [
    {
     "name": "stdout",
     "output_type": "stream",
     "text": [
      "A2.T： [[1 3 4]]\n"
     ]
    }
   ],
   "source": [
    "# 問題2\n",
    "A2 = np.array([[1],\n",
    "               [3],\n",
    "               [4]])\n",
    "\n",
    "# 転置のみ\n",
    "print(\"A2.T：\", A2.T)"
   ]
  },
  {
   "cell_type": "code",
   "execution_count": 10,
   "metadata": {},
   "outputs": [
    {
     "name": "stdout",
     "output_type": "stream",
     "text": [
      "A3*A4： [[ 2  8]\n",
      " [ 6 10]\n",
      " [ 4  0]]\n",
      "A4*A3：解なし\n"
     ]
    }
   ],
   "source": [
    "# 問題3\n",
    "A3 = np.array([[1, 4],\n",
    "               [3, 5],\n",
    "               [2, 0]])\n",
    "\n",
    "A4 = np.array([[2, 0],\n",
    "               [0, 2]])\n",
    "\n",
    "# A3*A4\n",
    "print(\"A3*A4：\", A3.dot(A4))\n",
    "\n",
    "# A4*A3\n",
    "try:\n",
    "    print(\"A4*A3\", A4.dot(A3))\n",
    "except ValueError:\n",
    "    print(\"A4*A3：解なし\")"
   ]
  },
  {
   "cell_type": "code",
   "execution_count": 21,
   "metadata": {},
   "outputs": [
    {
     "name": "stdout",
     "output_type": "stream",
     "text": [
      "tA5.dot(A6) [[28]]\n",
      "A5.dot(tA6) [[ 2  4  6]\n",
      " [ 4  8 12]\n",
      " [ 6 12 18]]\n"
     ]
    }
   ],
   "source": [
    "# 問題4\n",
    "A5 = np.array([[1],\n",
    "               [2],\n",
    "               [3]])\n",
    "\n",
    "A6 = np.array([[2],\n",
    "               [4],\n",
    "               [6]])\n",
    "\n",
    "# 転置\n",
    "tA5 = A5.T\n",
    "tA6 = A6.T\n",
    "\n",
    "# 内積\n",
    "print(\"tA5.dot(A6)\", tA5.dot(A6))\n",
    "print(\"A5.dot(tA6)\", A5.dot(tA6))"
   ]
  },
  {
   "cell_type": "code",
   "execution_count": 13,
   "metadata": {},
   "outputs": [
    {
     "name": "stdout",
     "output_type": "stream",
     "text": [
      "A7*A8： [[1000   30    0]\n",
      " [1092   49    9]\n",
      " [2064   27    2]]\n",
      "A8*A7： [[1000   30    0]\n",
      " [1092   49    9]\n",
      " [2064   27    2]]\n"
     ]
    }
   ],
   "source": [
    "# 問題5\n",
    "A7 = np.array([[1000, 30, 0],\n",
    "               [1092, 49, 9],\n",
    "               [2064, 27, 2]])\n",
    "\n",
    "A8 = np.array([[1, 0, 0],\n",
    "               [0, 1, 0],\n",
    "               [0, 0, 1]])\n",
    "\n",
    "print(\"A7*A8：\", A7.dot(A8))\n",
    "\n",
    "print(\"A8*A7：\", A8.dot(A7))"
   ]
  },
  {
   "cell_type": "code",
   "execution_count": null,
   "metadata": {},
   "outputs": [],
   "source": [
    "# 単位元(実数では１、行列の世界では単位行列)\n",
    "I = np.array([[1,0,0],\n",
    "              [0,1,0],\n",
    "              [0,0,1]])\n"
   ]
  },
  {
   "cell_type": "code",
   "execution_count": 15,
   "metadata": {},
   "outputs": [
    {
     "data": {
      "text/plain": [
       "array([[ 1.,  0.],\n",
       "       [ 0.,  1.]])"
      ]
     },
     "execution_count": 15,
     "metadata": {},
     "output_type": "execute_result"
    }
   ],
   "source": [
    "# 逆元(実数の世界では 指数-1乗)\n",
    "A = np.array([[2, 1],\n",
    "              [-1, 2]])\n",
    "\n",
    "B = np.array([[2/5, -1/5],\n",
    "              [1/5, 2/5]])\n",
    "\n",
    "A.dot(B)"
   ]
  },
  {
   "cell_type": "code",
   "execution_count": null,
   "metadata": {},
   "outputs": [],
   "source": []
  },
  {
   "cell_type": "code",
   "execution_count": null,
   "metadata": {},
   "outputs": [],
   "source": []
  },
  {
   "cell_type": "code",
   "execution_count": 61,
   "metadata": {},
   "outputs": [
    {
     "name": "stdout",
     "output_type": "stream",
     "text": [
      "[[  6.]\n",
      " [ 10.]]\n",
      "s [[ 0.99752738]\n",
      " [ 0.9999546 ]]\n"
     ]
    }
   ],
   "source": [
    "######## レイヤーを作る ######\n",
    "def set_state(x, W, b):\n",
    "#     x = (w.dot(x))+1*b\n",
    "#     print(x)\n",
    "#     return x\n",
    "    print((W.dot(x))+1*b)\n",
    "    return (W.dot(x))+1*b\n",
    "    \n",
    "def activate(s):\n",
    "    y = 1 / (1 + np.exp(-s)) \n",
    "    return y\n",
    "\n",
    "w = np.array([[1., 2.],\n",
    "              [2., 3.]])\n",
    "x = np.array([[1.],\n",
    "              [2.]])\n",
    "b = np.array([[1.],\n",
    "              [2.]])\n",
    "\n",
    "s = set_state(x,w,b)\n",
    "print(\"s\", activate(s))\n"
   ]
  },
  {
   "cell_type": "code",
   "execution_count": 60,
   "metadata": {},
   "outputs": [
    {
     "name": "stdout",
     "output_type": "stream",
     "text": [
      "1層目： [[ 0.88349451]\n",
      " [ 0.90443479]]\n",
      "2層目： [[ 0.83046119]\n",
      " [ 0.76666003]]\n",
      "2層目： [[ 0.7506729 ]\n",
      " [ 0.71544728]]\n"
     ]
    }
   ],
   "source": [
    "class Layer:\n",
    "    \n",
    "    def __init__(self, m, n):\n",
    "        self.W = np.random.rand(m, n)  # m行n列を設定\n",
    "        self.b = np.random.rand(m, 1)  # [] m行1列の要素をバイアスに与える\n",
    "        \n",
    "    def set_state(self, x):\n",
    "        s = (self.W.dot(x))+1*self.b\n",
    "        return s\n",
    "\n",
    "    def activate(self, s):\n",
    "        y = 1 / (1 + np.exp(-s))\n",
    "        return y\n",
    "\n",
    "    def output(self, x):\n",
    "        return self.activate(self.set_state(x))\n",
    "\n",
    "if __name__ == '__main__':\n",
    "    n1 = Layer(2, 2) # 設定\n",
    "    x1 = np.array([[1.],\n",
    "                  [2.]])\n",
    "    print(\"1層目：\", n1.output(x1))\n",
    "    \n",
    "    n2 = Layer(2, 2)\n",
    "    x2 = n1.output(x1)\n",
    "    print(\"2層目：\", n2.output(x2))\n",
    "    \n",
    "    n3 = Layer(2, 2)\n",
    "    x3 = n1.output(x2)\n",
    "    print(\"2層目：\", n3.output(x3))\n",
    "     "
   ]
  },
  {
   "cell_type": "code",
   "execution_count": null,
   "metadata": {},
   "outputs": [],
   "source": []
  }
 ],
 "metadata": {
  "kernelspec": {
   "display_name": "Python 3",
   "language": "python",
   "name": "python3"
  },
  "language_info": {
   "codemirror_mode": {
    "name": "ipython",
    "version": 3
   },
   "file_extension": ".py",
   "mimetype": "text/x-python",
   "name": "python",
   "nbconvert_exporter": "python",
   "pygments_lexer": "ipython3",
   "version": "3.6.1"
  }
 },
 "nbformat": 4,
 "nbformat_minor": 2
}
