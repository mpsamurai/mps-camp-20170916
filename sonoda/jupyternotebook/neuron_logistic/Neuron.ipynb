{
 "cells": [
  {
   "cell_type": "code",
   "execution_count": 41,
   "metadata": {},
   "outputs": [
    {
     "name": "stdout",
     "output_type": "stream",
     "text": [
      "0.684168764833\n"
     ]
    }
   ],
   "source": [
    "import numpy as np\n",
    "\n",
    "class Neuron():\n",
    "    def __init__(self, n):\n",
    "        self._w = np.random.rand(n)\n",
    "        self._b = np.random.rand(1)\n",
    "        self._so = None\n",
    "\n",
    "    def output(self, np_x):\n",
    "        return self._activation(np_x)\n",
    "\n",
    "    def _activation(self, np_x):\n",
    "        self._so = self._w.dot(np_x)\n",
    "        return 1 / (1 + np.exp(-1 * self._so))\n",
    "\n",
    "if __name__ == '__main__':\n",
    "    n = Neuron(2)\n",
    "    x = np.array([1., 1.])\n",
    "    print(n.output(x))"
   ]
  },
  {
   "cell_type": "code",
   "execution_count": null,
   "metadata": {},
   "outputs": [],
   "source": []
  }
 ],
 "metadata": {
  "kernelspec": {
   "display_name": "Python 3",
   "language": "python",
   "name": "python3"
  },
  "language_info": {
   "codemirror_mode": {
    "name": "ipython",
    "version": 3
   },
   "file_extension": ".py",
   "mimetype": "text/x-python",
   "name": "python",
   "nbconvert_exporter": "python",
   "pygments_lexer": "ipython3",
   "version": "3.6.1"
  }
 },
 "nbformat": 4,
 "nbformat_minor": 2
}
