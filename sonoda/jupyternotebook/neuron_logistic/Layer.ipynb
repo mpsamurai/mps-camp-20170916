{
 "cells": [
  {
   "cell_type": "code",
   "execution_count": 5,
   "metadata": {},
   "outputs": [],
   "source": [
    "import numpy as np"
   ]
  },
  {
   "cell_type": "code",
   "execution_count": 16,
   "metadata": {},
   "outputs": [
    {
     "name": "stdout",
     "output_type": "stream",
     "text": [
      "[[ 0.97415073]\n",
      " [ 0.77947797]\n",
      " [ 0.84223343]\n",
      " [ 0.90549767]]\n",
      "[[ 0.93139542]]\n"
     ]
    }
   ],
   "source": [
    "class Layer():\n",
    "\n",
    "    # m: ニューロンの数\n",
    "    # n: 入力の数\n",
    "    def __init__(self, m, n):\n",
    "        self._output = None\n",
    "        self._w = np.random.rand(m, n)\n",
    "\n",
    "    # input: 入力の値: 行列: np.array\n",
    "    def output(self, inputs):\n",
    "        s = self._w.dot(inputs)\n",
    "        return self._activation(s)\n",
    "\n",
    "    # n: ニューロンの数\n",
    "    # s: 出力\n",
    "    def _activation(self, s):\n",
    "        self._output = 1 / (1 + np.exp(-1 * s))\n",
    "        return self._output\n",
    "    \n",
    "if __name__ == '__main__':\n",
    "    # layer1\n",
    "    l1 = Layer(4, 3)\n",
    "    input1 = np.array([[1.], [2.], [4.]])\n",
    "    output1 = l1.output(input1)\n",
    "    print(output1)\n",
    "\n",
    "    # layer2\n",
    "    l2 = Layer(1, 4)\n",
    "    output2 = l2.output(output1)\n",
    "    print(output2)\n"
   ]
  },
  {
   "cell_type": "code",
   "execution_count": null,
   "metadata": {},
   "outputs": [],
   "source": []
  }
 ],
 "metadata": {
  "kernelspec": {
   "display_name": "Python 3",
   "language": "python",
   "name": "python3"
  },
  "language_info": {
   "codemirror_mode": {
    "name": "ipython",
    "version": 3
   },
   "file_extension": ".py",
   "mimetype": "text/x-python",
   "name": "python",
   "nbconvert_exporter": "python",
   "pygments_lexer": "ipython3",
   "version": "3.6.1"
  }
 },
 "nbformat": 4,
 "nbformat_minor": 2
}
