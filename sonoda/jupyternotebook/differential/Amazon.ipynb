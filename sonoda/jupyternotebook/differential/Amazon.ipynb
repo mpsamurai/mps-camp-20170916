{
 "cells": [
  {
   "cell_type": "code",
   "execution_count": 32,
   "metadata": {},
   "outputs": [],
   "source": [
    "% matplotlib inline\n",
    "from matplotlib import pyplot as plt\n",
    "import numpy as np\n",
    "import csv\n",
    "import math"
   ]
  },
  {
   "cell_type": "code",
   "execution_count": 36,
   "metadata": {},
   "outputs": [
    {
     "name": "stdout",
     "output_type": "stream",
     "text": [
      "[960.570007, 958.469971, 953.289978, 966.900024, 958.0, 952.450012, 945.26001, 946.02002, 954.059998, 967.590027, 980.599976, 978.25, 965.27002, 967.799988, 979.469971, 965.900024, 977.960022, 982.580017, 999.599976, 992.210022, 986.789978]\n",
      "966.900024\n"
     ]
    }
   ],
   "source": [
    "f = open('./data/AMZN.csv', 'r')\n",
    "\n",
    "reader = csv.reader(f)\n",
    "header = next(reader)\n",
    "\n",
    "close = []\n",
    "date = {}\n",
    "i = 0\n",
    "for row in reader:\n",
    "    date[i] = row[0]\n",
    "    close.append(float(row[4]))\n",
    "    i = i + 1\n",
    "f.close()\n",
    "\n",
    "def approx(close, t_approx, t):\n",
    "    np_close = np.array(close)\n",
    "    close_1 = np.diff(np_close)\n",
    "    close_2 = np.diff(close_1)\n",
    "    return np_close[t_approx] + close_1[t_approx] * (t - t_approx) + (close_2[t_approx] / math.factorial(2)) * np.power(t - t_approx, 2)\n"
   ]
  }
 ],
 "metadata": {
  "kernelspec": {
   "display_name": "Python 3",
   "language": "python",
   "name": "python3"
  },
  "language_info": {
   "codemirror_mode": {
    "name": "ipython",
    "version": 3
   },
   "file_extension": ".py",
   "mimetype": "text/x-python",
   "name": "python",
   "nbconvert_exporter": "python",
   "pygments_lexer": "ipython3",
   "version": "3.6.1"
  }
 },
 "nbformat": 4,
 "nbformat_minor": 2
}
